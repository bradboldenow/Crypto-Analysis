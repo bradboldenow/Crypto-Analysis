{
 "cells": [
  {
   "cell_type": "code",
   "execution_count": 5,
   "metadata": {
    "collapsed": true
   },
   "outputs": [],
   "source": [
    "import tweepy"
   ]
  },
  {
   "cell_type": "code",
   "execution_count": 6,
   "metadata": {
    "collapsed": true
   },
   "outputs": [],
   "source": [
    "con_key = '0000000000000000000000000000000'\n",
    "con_secret = '0000000000000000000000000000000'\n",
    "acc_token = '0000000000000000000000000000000'\n",
    "acc_secret = '0000000000000000000000000000000'"
   ]
  },
  {
   "cell_type": "code",
   "execution_count": 7,
   "metadata": {
    "collapsed": true
   },
   "outputs": [],
   "source": [
    "auth = tweepy.OAuthHandler(consumer_key=con_key, consumer_secret=con_secret)\n",
    "auth.set_access_token(acc_token, acc_secret)\n",
    "\n",
    "#Connect to the Twitter API using the authentication\n",
    "api = tweepy.API(auth)"
   ]
  },
  {
   "cell_type": "code",
   "execution_count": 8,
   "metadata": {},
   "outputs": [
    {
     "data": {
      "text/plain": [
       "10014"
      ]
     },
     "execution_count": 8,
     "metadata": {},
     "output_type": "execute_result"
    }
   ],
   "source": [
    "#Search for bitcoin tweets, use for loop to collect 10,000 tweets, also filter for retweeted tweets so we only have original content.\n",
    "num_needed = 10000\n",
    "tweet_list_btc = []\n",
    "last_id = -1 # id of last tweet seen\n",
    "while len(tweet_list_btc) < num_needed:\n",
    "    try:\n",
    "        new_tweets = api.search(q = 'bitcoin%20OR%20BTC%20OR%20#%23bitcoin%20OR%20#%23btc -filter:retweets', count = 100, max_id = str(last_id - 1))\n",
    "    except tweepy.TweepError as e:\n",
    "        print(\"Error\", e)\n",
    "        break\n",
    "    else:\n",
    "        if not new_tweets:\n",
    "            print(\"Could not find any more tweets!\")\n",
    "            break\n",
    "        tweet_list_btc.extend(new_tweets)\n",
    "        last_id = new_tweets[-1].id\n",
    "\n",
    "len(tweet_list_btc)"
   ]
  },
  {
   "cell_type": "code",
   "execution_count": 11,
   "metadata": {},
   "outputs": [
    {
     "data": {
      "text/plain": [
       "10003"
      ]
     },
     "execution_count": 11,
     "metadata": {},
     "output_type": "execute_result"
    }
   ],
   "source": [
    "#Search for litecoin tweets, use for loop to collect 10,000 tweets, also filter for retweeted tweets so we only have original content.\n",
    "num_needed2 = 10000\n",
    "tweet_list_ltc = []\n",
    "last_id2 = -1 # id of last tweet seen\n",
    "while len(tweet_list_ltc) < num_needed2:\n",
    "    try:\n",
    "        new_tweets2 = api.search(q = 'litecoin%20OR%20ltc%20OR%20#%23litecoin%20OR%20#%23ltc -filter:retweets', count = 100, max_id2 = str(last_id2 - 1))\n",
    "    except tweepy.TweepError as e:\n",
    "        print(\"Error\", e)\n",
    "        break\n",
    "    else:\n",
    "        if not new_tweets2:\n",
    "            print(\"Could not find any more tweets!\")\n",
    "            break\n",
    "        tweet_list_ltc.extend(new_tweets2)\n",
    "        last_id2 = new_tweets2[-1].id\n",
    "\n",
    "len(tweet_list_ltc)"
   ]
  },
  {
   "cell_type": "code",
   "execution_count": 12,
   "metadata": {},
   "outputs": [
    {
     "name": "stdout",
     "output_type": "stream",
     "text": [
      "Error [{'message': 'Rate limit exceeded', 'code': 88}]\n"
     ]
    },
    {
     "data": {
      "text/plain": [
       "6514"
      ]
     },
     "execution_count": 12,
     "metadata": {},
     "output_type": "execute_result"
    }
   ],
   "source": [
    "#Search for ethereum tweets, use for loop to collect 10,000 tweets, also filter for retweeted tweets so we only have original content.\n",
    "num_needed3 = 10000\n",
    "tweet_list_eth = []\n",
    "last_id3 = -1 # id of last tweet seen\n",
    "while len(tweet_list_eth) < num_needed3:\n",
    "    try:\n",
    "        new_tweets3 = api.search(q = 'ethereum%20OR%20eth%20OR%20#%23ethereum%20OR%20#%23eth%20OR%20ether -filter:retweets', count = 100, max_id3 = str(last_id3 - 1))\n",
    "    except tweepy.TweepError as e:\n",
    "        print(\"Error\", e)\n",
    "        break\n",
    "    else:\n",
    "        if not new_tweets3:\n",
    "            print(\"Could not find any more tweets!\")\n",
    "            break\n",
    "        tweet_list_eth.extend(new_tweets3)\n",
    "        last_id3 = new_tweets3[-1].id\n",
    "\n",
    "len(tweet_list_eth)"
   ]
  },
  {
   "cell_type": "code",
   "execution_count": 13,
   "metadata": {
    "collapsed": true
   },
   "outputs": [],
   "source": [
    "#Extract variables for bitcoin tweets\n",
    "text_btc = [tweet.text for tweet in tweet_list_btc]\n",
    "retweets_btc = [tweet.retweet_count for tweet in tweet_list_btc]\n",
    "favorites_btc = [tweet.favorite_count for tweet in tweet_list_btc]\n",
    "language_btc = [tweet.lang for tweet in tweet_list_btc]\n",
    "\n",
    "#Extract variables for litecoin tweets\n",
    "text_ltc = [tweet.text for tweet in tweet_list_ltc]\n",
    "retweets_ltc = [tweet.retweet_count for tweet in tweet_list_ltc]\n",
    "favorites_ltc = [tweet.favorite_count for tweet in tweet_list_ltc]\n",
    "language_ltc = [tweet.lang for tweet in tweet_list_ltc]\n",
    "\n",
    "#Extract the variables for ether tweets\n",
    "text_eth = [tweet.text for tweet in tweet_list_eth]\n",
    "retweets_eth = [tweet.retweet_count for tweet in tweet_list_eth]\n",
    "favorites_eth = [tweet.favorite_count for tweet in tweet_list_eth]\n",
    "language_eth = [tweet.lang for tweet in tweet_list_eth]"
   ]
  },
  {
   "cell_type": "code",
   "execution_count": 16,
   "metadata": {
    "collapsed": true
   },
   "outputs": [],
   "source": [
    "#Clean each tweet and store in new variable\n",
    "import re\n",
    "clean_tweet_btc = []\n",
    "clean_tweet_ltc = []\n",
    "clean_tweet_eth = []\n",
    "\n",
    "for tweet in text_btc:\n",
    "    clean_tweet_btc.append(' '.join(re.sub(\"(@[A-Za-z0-9]+)|([^0-9A-Za-z \\t])|(\\w+:\\/\\/\\S+)\", \" \", tweet).split()))\n",
    "\n",
    "for tweet in text_ltc:\n",
    "    clean_tweet_ltc.append(' '.join(re.sub(\"(@[A-Za-z0-9]+)|([^0-9A-Za-z \\t])|(\\w+:\\/\\/\\S+)\", \" \", tweet).split()))\n",
    "\n",
    "for tweet in text_eth:\n",
    "    clean_tweet_eth.append(' '.join(re.sub(\"(@[A-Za-z0-9]+)|([^0-9A-Za-z \\t])|(\\w+:\\/\\/\\S+)\", \" \", tweet).split()))"
   ]
  },
  {
   "cell_type": "code",
   "execution_count": 17,
   "metadata": {},
   "outputs": [
    {
     "data": {
      "text/plain": [
       "['Exchange SCAM ALL THESE PRICE IS ARTIFICIALLY INFLATED SO THAT YOU DEPOSIT MONEY THAT YOU CANNOT WITHDRAW',\n",
       " 'majority in btc that im long in and a portion to alts im kinda all over the place with alts',\n",
       " 'So I m on Coinbase Transferred it to binance Buy btc with your litecoin Then transfer btc to X',\n",
       " 'Sorry babe I m buying Bitcoin no dinner tonight 2ExcusesToDitchADate Sorry darling I am playing poker with Bitc',\n",
       " 'BTC 4']"
      ]
     },
     "execution_count": 17,
     "metadata": {},
     "output_type": "execute_result"
    }
   ],
   "source": [
    "clean_tweet_btc[0:5]"
   ]
  },
  {
   "cell_type": "code",
   "execution_count": 18,
   "metadata": {},
   "outputs": [
    {
     "data": {
      "text/plain": [
       "['What is Cryptoeconomics The Ultimate Beginners Guide Crypto Ethereum',\n",
       " 'These assets are seeing a jump in tweets ArtificialIntelligence Litecoin Blockchain ETH',\n",
       " 'What is BlockChain fintech CryptoCurrency AI ML IoT IoE Bitcoin Crypto BigData DLT CyberSecurity BTC',\n",
       " 'VRC LAST 3 PUMPS HAPPENED AT EXACTLY 1 PM NETHERLANDS TIME ZONE WHICH MEANS IF THIS FOLLOWS THE TREND THE PUM',\n",
       " 'I think trust lines require an 5XRP if you need to set up a BTC or ETH funding']"
      ]
     },
     "execution_count": 18,
     "metadata": {},
     "output_type": "execute_result"
    }
   ],
   "source": [
    "clean_tweet_eth[0:5]"
   ]
  },
  {
   "cell_type": "code",
   "execution_count": 19,
   "metadata": {},
   "outputs": [
    {
     "data": {
      "text/plain": [
       "['Would love your thoughts on LTC Nic',\n",
       " 'AXA Equitable Provides Long Term Care Protection Tips in Honor of National Long Term Care Awareness Month',\n",
       " 'BTC 16578 3 0 6 ETH 695 1 1 4 XRP 0 9 80 8 BCH 1953 7 21 9 LTC 279 3 8 3 MIOTA',\n",
       " 'Bittrex litecoin',\n",
       " 'We can hope but it s a bear market right now They want to buy up your cheep LTC']"
      ]
     },
     "execution_count": 19,
     "metadata": {},
     "output_type": "execute_result"
    }
   ],
   "source": [
    "clean_tweet_ltc[0:5]"
   ]
  },
  {
   "cell_type": "code",
   "execution_count": 20,
   "metadata": {
    "collapsed": true
   },
   "outputs": [],
   "source": [
    "from textblob import TextBlob"
   ]
  },
  {
   "cell_type": "code",
   "execution_count": 21,
   "metadata": {
    "collapsed": true
   },
   "outputs": [],
   "source": [
    "#Record the polarity score for each tweet text and append to new list\n",
    "polarity_btc = []\n",
    "polarity_ltc = []\n",
    "polarity_eth = []\n",
    "\n",
    "for tweet in clean_tweet_btc:\n",
    "    tweet = TextBlob(tweet)\n",
    "    polarity_btc.append(tweet.sentiment.polarity)\n",
    "    \n",
    "for tweet in clean_tweet_ltc:\n",
    "    tweet = TextBlob(tweet)\n",
    "    polarity_ltc.append(tweet.sentiment.polarity)\n",
    "    \n",
    "for tweet in clean_tweet_eth:\n",
    "    tweet = TextBlob(tweet)\n",
    "    polarity_eth.append(tweet.sentiment.polarity)"
   ]
  },
  {
   "cell_type": "code",
   "execution_count": 22,
   "metadata": {
    "collapsed": true
   },
   "outputs": [],
   "source": [
    "#Combine lists into individual pandas dataframe for each cryptocurrency\n",
    "import pandas as pd\n",
    "import numpy as np\n",
    "full_btc = pd.DataFrame({'text' : clean_tweet_btc, 'retweets' : retweets_btc, 'favorites' : favorites_btc, 'polarity': polarity_btc, 'language':language_btc})\n",
    "full_ltc = pd.DataFrame({'text' : clean_tweet_ltc, 'retweets' : retweets_ltc, 'favorites' : favorites_ltc, 'polarity': polarity_ltc, 'language':language_ltc})\n",
    "full_eth = pd.DataFrame({'text' : clean_tweet_eth, 'retweets' : retweets_eth, 'favorites' : favorites_eth, 'polarity': polarity_eth, 'language':language_eth})"
   ]
  },
  {
   "cell_type": "code",
   "execution_count": 23,
   "metadata": {},
   "outputs": [
    {
     "data": {
      "text/html": [
       "<div>\n",
       "<style>\n",
       "    .dataframe thead tr:only-child th {\n",
       "        text-align: right;\n",
       "    }\n",
       "\n",
       "    .dataframe thead th {\n",
       "        text-align: left;\n",
       "    }\n",
       "\n",
       "    .dataframe tbody tr th {\n",
       "        vertical-align: top;\n",
       "    }\n",
       "</style>\n",
       "<table border=\"1\" class=\"dataframe\">\n",
       "  <thead>\n",
       "    <tr style=\"text-align: right;\">\n",
       "      <th></th>\n",
       "      <th>favorites</th>\n",
       "      <th>language</th>\n",
       "      <th>polarity</th>\n",
       "      <th>retweets</th>\n",
       "      <th>text</th>\n",
       "    </tr>\n",
       "  </thead>\n",
       "  <tbody>\n",
       "    <tr>\n",
       "      <th>0</th>\n",
       "      <td>0</td>\n",
       "      <td>en</td>\n",
       "      <td>-0.60</td>\n",
       "      <td>0</td>\n",
       "      <td>Exchange SCAM ALL THESE PRICE IS ARTIFICIALLY ...</td>\n",
       "    </tr>\n",
       "    <tr>\n",
       "      <th>1</th>\n",
       "      <td>0</td>\n",
       "      <td>en</td>\n",
       "      <td>-0.05</td>\n",
       "      <td>0</td>\n",
       "      <td>majority in btc that im long in and a portion ...</td>\n",
       "    </tr>\n",
       "    <tr>\n",
       "      <th>2</th>\n",
       "      <td>0</td>\n",
       "      <td>en</td>\n",
       "      <td>0.00</td>\n",
       "      <td>0</td>\n",
       "      <td>So I m on Coinbase Transferred it to binance B...</td>\n",
       "    </tr>\n",
       "    <tr>\n",
       "      <th>3</th>\n",
       "      <td>0</td>\n",
       "      <td>en</td>\n",
       "      <td>-0.50</td>\n",
       "      <td>0</td>\n",
       "      <td>Sorry babe I m buying Bitcoin no dinner tonigh...</td>\n",
       "    </tr>\n",
       "    <tr>\n",
       "      <th>4</th>\n",
       "      <td>0</td>\n",
       "      <td>ja</td>\n",
       "      <td>0.00</td>\n",
       "      <td>0</td>\n",
       "      <td>BTC 4</td>\n",
       "    </tr>\n",
       "  </tbody>\n",
       "</table>\n",
       "</div>"
      ],
      "text/plain": [
       "   favorites language  polarity  retweets  \\\n",
       "0          0       en     -0.60         0   \n",
       "1          0       en     -0.05         0   \n",
       "2          0       en      0.00         0   \n",
       "3          0       en     -0.50         0   \n",
       "4          0       ja      0.00         0   \n",
       "\n",
       "                                                text  \n",
       "0  Exchange SCAM ALL THESE PRICE IS ARTIFICIALLY ...  \n",
       "1  majority in btc that im long in and a portion ...  \n",
       "2  So I m on Coinbase Transferred it to binance B...  \n",
       "3  Sorry babe I m buying Bitcoin no dinner tonigh...  \n",
       "4                                              BTC 4  "
      ]
     },
     "execution_count": 23,
     "metadata": {},
     "output_type": "execute_result"
    }
   ],
   "source": [
    "full_btc.head()"
   ]
  },
  {
   "cell_type": "code",
   "execution_count": 25,
   "metadata": {
    "collapsed": true
   },
   "outputs": [],
   "source": [
    "#filter each dataframe for only tweets in the english language\n",
    "english_btc = full_btc.loc[full_btc['language'] == 'en']\n",
    "english_ltc = full_ltc.loc[full_ltc['language'] == 'en']\n",
    "english_eth = full_eth.loc[full_eth['language'] == 'en']"
   ]
  },
  {
   "cell_type": "code",
   "execution_count": 26,
   "metadata": {},
   "outputs": [
    {
     "data": {
      "text/plain": [
       "7858"
      ]
     },
     "execution_count": 26,
     "metadata": {},
     "output_type": "execute_result"
    }
   ],
   "source": [
    "len(english_btc)"
   ]
  },
  {
   "cell_type": "code",
   "execution_count": 27,
   "metadata": {},
   "outputs": [
    {
     "data": {
      "text/plain": [
       "8498"
      ]
     },
     "execution_count": 27,
     "metadata": {},
     "output_type": "execute_result"
    }
   ],
   "source": [
    "len(english_ltc)"
   ]
  },
  {
   "cell_type": "code",
   "execution_count": 28,
   "metadata": {},
   "outputs": [
    {
     "data": {
      "text/plain": [
       "5298"
      ]
     },
     "execution_count": 28,
     "metadata": {},
     "output_type": "execute_result"
    }
   ],
   "source": [
    "len(english_eth)"
   ]
  },
  {
   "cell_type": "code",
   "execution_count": 29,
   "metadata": {
    "collapsed": true
   },
   "outputs": [],
   "source": [
    "#write each df to csv file \n",
    "english_btc.to_csv('btc.csv')"
   ]
  },
  {
   "cell_type": "code",
   "execution_count": 30,
   "metadata": {
    "collapsed": true
   },
   "outputs": [],
   "source": [
    "english_ltc.to_csv('ltc.csv')"
   ]
  },
  {
   "cell_type": "code",
   "execution_count": 31,
   "metadata": {
    "collapsed": true
   },
   "outputs": [],
   "source": [
    "english_eth.to_csv('eth.csv')"
   ]
  }
 ],
 "metadata": {
  "kernelspec": {
   "display_name": "Python 3",
   "language": "python",
   "name": "python3"
  },
  "language_info": {
   "codemirror_mode": {
    "name": "ipython",
    "version": 3
   },
   "file_extension": ".py",
   "mimetype": "text/x-python",
   "name": "python",
   "nbconvert_exporter": "python",
   "pygments_lexer": "ipython3",
   "version": "3.6.3"
  }
 },
 "nbformat": 4,
 "nbformat_minor": 2
}
